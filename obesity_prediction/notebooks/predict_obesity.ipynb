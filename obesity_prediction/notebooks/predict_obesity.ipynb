{
 "cells": [
  {
   "cell_type": "markdown",
   "source": [
    "# Multi-Class Prediction of Obesity Risk\n",
    "\n",
    "The data consist of the estimation of obesity levels in people from the countries of Mexico, Peru and Colombia, with ages between 14 and 61 and diverse eating habits and physical condition , data was collected using a web platform with a survey where anonymous users answered each question\n",
    "Data contains info related to eating habits (e.g., frequent consumption of high caloric food, daily water consumption) and physical activity (e.g., physical activity frequency, time using technology devices)\n",
    "We're going to predict a binary variable: obese or not. Our dataset contains different classifications that we're going to binarize (insufficient weight, normal weight, overweight levels I and II, obese levels I, II, III).\n",
    "Obesity classification was done purely based on BMI\n",
    "\n"
   ],
   "metadata": {
    "collapsed": false
   }
  },
  {
   "cell_type": "markdown",
   "source": [
    "#### load modules"
   ],
   "metadata": {
    "collapsed": false
   }
  },
  {
   "cell_type": "code",
   "execution_count": 1,
   "outputs": [],
   "source": [
    "%load_ext autoreload\n",
    "%autoreload 2\n",
    "import numpy as np\n",
    "import matplotlib.pyplot as plt\n",
    "import pandas as pd\n",
    "import sklearn"
   ],
   "metadata": {
    "collapsed": false
   }
  },
  {
   "cell_type": "markdown",
   "source": [
    "#### load data"
   ],
   "metadata": {
    "collapsed": false
   }
  },
  {
   "cell_type": "code",
   "execution_count": 10,
   "outputs": [],
   "source": [
    "data_path = '/Users/andrew/Documents/GitHub/data_science/obesity_prediction/data/'\n",
    "df = pd.read_csv(data_path + 'train.csv')"
   ],
   "metadata": {
    "collapsed": false
   }
  },
  {
   "cell_type": "markdown",
   "source": [
    "#### do a bit of preprocessing\n",
    "convert categorical variables to dummy variables.\n",
    "not normalizing or centering because non-categorical variables are already on about the same scale"
   ],
   "metadata": {
    "collapsed": false
   }
  },
  {
   "cell_type": "code",
   "execution_count": 11,
   "outputs": [],
   "source": [
    "# Convert categorical (or binary) variables to dummy variables (one-hot encoded)\n",
    "catVars = ['Gender', 'family_history_with_overweight', 'FAVC', 'SMOKE', 'SCC', 'MTRANS']\n",
    "\n",
    "for ii in catVars:\n",
    "\n",
    "    # create the dummy variable\n",
    "    dummy = pd.get_dummies(df[ii], drop_first=True)\n",
    "\n",
    "    # remove the original variable\n",
    "    df.drop(ii, axis = 1, inplace=True)\n",
    "\n",
    "    # add the dummified variable\n",
    "    df = pd.concat([df, dummy],axis=1)\n",
    "\n",
    "# drop height and weight from table\n",
    "df.drop(['Height','Weight'], axis=1, inplace=True)\n",
    "\n",
    "# convert the variable referencing 'consumption of food between meals' to integer values\n",
    "vals = np.arange(4)\n",
    "keywords = ['no', 'Sometimes', 'Frequently', 'Always']\n",
    "for ii, kw in enumerate(keywords):\n",
    "    df.loc[df['CAEC']==kw, 'CAEC'] = vals[ii]\n",
    "\n",
    "# do the same with alcohol consumption\n",
    "vals = np.arange(3)\n",
    "keywords = ['no','Sometimes','Frequently']\n",
    "for ii, kw in enumerate(keywords):\n",
    "    df.loc[df['CALC']==kw, 'CALC'] = vals[ii]\n",
    "\n",
    "# and the obesity level\n",
    "vals = np.arange(7)\n",
    "keywords = ['Insufficient_Weight','Normal_Weight','Overweight_Level_I','Overweight_Level_II',\n",
    "            'Obesity_Type_I','Obesity_Type_II','Obesity_Type_III']\n",
    "for ii, kw in enumerate(keywords):\n",
    "    df.loc[df['NObeyesdad']==kw, 'NObeyesdad'] = vals[ii]\n",
    "\n",
    "# convert the obesity level to a binary variable\n",
    "df.loc[df['NObeyesdad'] < 4, 'NObeyesdad'] = 0\n",
    "df.loc[df['NObeyesdad'] >= 4,'NObeyesdad'] = 1\n",
    "\n",
    "# toss the id column\n",
    "df.drop('id', axis=1, inplace=True)"
   ],
   "metadata": {
    "collapsed": false
   }
  },
  {
   "cell_type": "code",
   "execution_count": 19,
   "outputs": [],
   "source": [
    "# separate out our training and test data\n",
    "# fraction of data to use for training\n",
    "train_fraction = 0.9\n",
    "num_train = round(df.shape[0] * train_fraction)\n",
    "\n",
    "df_train = df.iloc[:num_train]\n",
    "df_test  = df.iloc[num_train:]"
   ],
   "metadata": {
    "collapsed": false
   }
  },
  {
   "cell_type": "markdown",
   "source": [
    "#### Logistic regression\n",
    "This will be our baseline\n",
    "no regularization"
   ],
   "metadata": {
    "collapsed": false
   }
  },
  {
   "cell_type": "code",
   "execution_count": 29,
   "outputs": [
    {
     "name": "stdout",
     "output_type": "stream",
     "text": [
      "classification accuracy: 0.8034682080924855\n"
     ]
    }
   ],
   "source": [
    "from sklearn.linear_model import LogisticRegression\n",
    "\n",
    "# pull out the train X and train Y data\n",
    "X_train = np.array(df_train.iloc[:, df.columns != 'NObeyesdad'])\n",
    "Y_train = np.array(df_train.iloc[:, df.columns == 'NObeyesdad']).astype('bool')[:,0]\n",
    "\n",
    "# pull out the test data\n",
    "X_test = np.array(df_test.iloc[:, df.columns != 'NObeyesdad'])\n",
    "Y_test = np.array(df_test.iloc[:, df.columns == 'NObeyesdad']).astype('bool')[:,0]\n",
    "\n",
    "# initialize our model\n",
    "model_logReg = LogisticRegression(penalty=None, max_iter=500)\n",
    "\n",
    "# fit the model\n",
    "model_logReg.fit(X_train,Y_train)\n",
    "\n",
    "# test the model\n",
    "Y_hat = model_logReg.predict(X_test)\n",
    "\n",
    "# calculate accuracy\n",
    "baseline_score = sum(Y_test == Y_hat) / len(Y_test)\n",
    "print('classification accuracy: ' + str(baseline_score))\n",
    "\n",
    "# initialize a dictionary to keep track of our scores\n",
    "all_scores = {'baseline': baseline_score}"
   ],
   "metadata": {
    "collapsed": false
   }
  },
  {
   "cell_type": "markdown",
   "source": [
    "#### Not bad (certainly above chance), but we can clearly do better\n",
    "as a simple start, at L2 regularization to combat overfitting (likely not an issue, given the small number of parameters)"
   ],
   "metadata": {
    "collapsed": false
   }
  },
  {
   "cell_type": "code",
   "execution_count": 30,
   "outputs": [
    {
     "name": "stdout",
     "output_type": "stream",
     "text": [
      "percent change in classification accuracy: 0.0\n",
      "percent change in classification accuracy: -0.000599520383692982\n",
      "percent change in classification accuracy: -0.000599520383692982\n",
      "percent change in classification accuracy: 0.007194244604316612\n",
      "percent change in classification accuracy: -0.002997601918465186\n",
      "percent change in classification accuracy: -0.04856115107913665\n",
      "percent change in classification accuracy: -0.09232613908872903\n",
      "percent change in classification accuracy: -0.1109112709832134\n"
     ]
    }
   ],
   "source": [
    "# magnitude of L2 penalty (0-1, with lower values corresponding to a greater penalty)\n",
    "l2_lam = np.logspace(-5,stop=1, num=8)[::-1]\n",
    "num_lams = len(l2_lam)\n",
    "\n",
    "# fit each in turn\n",
    "model_logReg_l2 = [None] * num_lams\n",
    "\n",
    "# list to keep track of scores with different l2 penalties\n",
    "l2_score = []\n",
    "for ii,ll in enumerate(l2_lam):\n",
    "\n",
    "    model_logReg_l2[ii] = LogisticRegression(penalty='l2', C=ll, max_iter=500 )\n",
    "\n",
    "    # fit the model\n",
    "    model_logReg_l2[ii].fit(X_train,Y_train)\n",
    "\n",
    "    # test the model\n",
    "    Y_hat = model_logReg_l2[ii].predict(X_test)\n",
    "\n",
    "    # calculate accuracy\n",
    "    score = sum(Y_test == Y_hat) / len(Y_test)\n",
    "    l2_score.append(score)\n",
    "\n",
    "    # display result as fractional improvement over baseline\n",
    "    pct_dScore = (score - baseline_score) / baseline_score\n",
    "    print('percent change in classification accuracy: ' + str(pct_dScore))\n",
    "\n",
    "# add the best score to the dictionary\n",
    "all_scores['l2_reg'] = np.max(l2_score)"
   ],
   "metadata": {
    "collapsed": false
   }
  },
  {
   "cell_type": "markdown",
   "source": [
    "#### Very tiny improvement in performance with moderate normalization"
   ],
   "metadata": {
    "collapsed": false
   }
  },
  {
   "cell_type": "markdown",
   "source": [
    "#### Before we change up the model architecture, let's see if we can get any improvements by handling the input data more intelligently (i.e., 'feature engineering') .\n",
    "First, we're going to bin the ages by decade (whether a person is 30 or 33 likely does not greatly change their likelihood of being obese)\n",
    "We're also going to log-transform the ages, as the fraction of obese individuals changes dramatically as a function of age during early-middle age\n"
   ],
   "metadata": {
    "collapsed": false
   }
  },
  {
   "cell_type": "code",
   "execution_count": 31,
   "outputs": [],
   "source": [
    "# add a 'binned age' column to the dataframe\n",
    "df['age_bin'] = pd.cut(df['Age'], bins=[10,20,30,40,50,60,70],labels=[0,1,2,3,4,5])\n",
    "\n",
    "# log transform the ages\n",
    "df['log_age'] = np.log1p(df['Age'])"
   ],
   "metadata": {
    "collapsed": false
   }
  },
  {
   "cell_type": "code",
   "execution_count": 34,
   "outputs": [],
   "source": [
    "# pull out the test and train data again\n",
    "X_df = df.copy()\n",
    "Y = np.array(X_df['NObeyesdad']).astype('bool')\n",
    "X_df.drop(['NObeyesdad'],axis=1,inplace=True)\n",
    "X = np.array(X_df)\n",
    "\n",
    "\n",
    "# pull out the train X and train Y data\n",
    "X_train = X[:num_train,:]\n",
    "Y_train = Y[:num_train]\n",
    "\n",
    "# pull out the test data\n",
    "X_test = X[num_train:,:]\n",
    "Y_test = Y[num_train:]"
   ],
   "metadata": {
    "collapsed": false
   }
  },
  {
   "cell_type": "code",
   "execution_count": 38,
   "outputs": [
    {
     "name": "stderr",
     "output_type": "stream",
     "text": [
      "/Users/andrew/miniconda3/envs/jobPrep/lib/python3.11/site-packages/sklearn/linear_model/_logistic.py:458: ConvergenceWarning: lbfgs failed to converge (status=1):\n",
      "STOP: TOTAL NO. of ITERATIONS REACHED LIMIT.\n",
      "\n",
      "Increase the number of iterations (max_iter) or scale the data as shown in:\n",
      "    https://scikit-learn.org/stable/modules/preprocessing.html\n",
      "Please also refer to the documentation for alternative solver options:\n",
      "    https://scikit-learn.org/stable/modules/linear_model.html#logistic-regression\n",
      "  n_iter_i = _check_optimize_result(\n"
     ]
    },
    {
     "name": "stdout",
     "output_type": "stream",
     "text": [
      "percent change in classification accuracy: 0.0227817745803358\n"
     ]
    },
    {
     "name": "stderr",
     "output_type": "stream",
     "text": [
      "/Users/andrew/miniconda3/envs/jobPrep/lib/python3.11/site-packages/sklearn/linear_model/_logistic.py:458: ConvergenceWarning: lbfgs failed to converge (status=1):\n",
      "STOP: TOTAL NO. of ITERATIONS REACHED LIMIT.\n",
      "\n",
      "Increase the number of iterations (max_iter) or scale the data as shown in:\n",
      "    https://scikit-learn.org/stable/modules/preprocessing.html\n",
      "Please also refer to the documentation for alternative solver options:\n",
      "    https://scikit-learn.org/stable/modules/linear_model.html#logistic-regression\n",
      "  n_iter_i = _check_optimize_result(\n"
     ]
    },
    {
     "name": "stdout",
     "output_type": "stream",
     "text": [
      "percent change in classification accuracy: 0.025779376498800986\n",
      "percent change in classification accuracy: 0.01079136690647478\n",
      "percent change in classification accuracy: 0.01079136690647478\n",
      "percent change in classification accuracy: 0.0005995203836931201\n",
      "percent change in classification accuracy: -0.045563549160671464\n",
      "percent change in classification accuracy: -0.09292565947242201\n",
      "percent change in classification accuracy: -0.1121103117505995\n"
     ]
    }
   ],
   "source": [
    "# train models (with l2 regularization and feature engineering)\n",
    "model_logReg_l2_fe = [None] * num_lams\n",
    "\n",
    "# list to keep track of scores\n",
    "fe_scores = []\n",
    "for ii,ll in enumerate(l2_lam):\n",
    "\n",
    "    model_logReg_l2_fe[ii] = LogisticRegression(penalty='l2', C=ll, max_iter = 500 )\n",
    "\n",
    "    # fit the model\n",
    "    model_logReg_l2_fe[ii].fit(X_train,Y_train)\n",
    "\n",
    "    # test the model\n",
    "    Y_hat = model_logReg_l2_fe[ii].predict(X_test)\n",
    "\n",
    "    # calculate accuracy\n",
    "    score = sum(Y_test == Y_hat) / len(Y_test)\n",
    "    fe_scores.append(score)\n",
    "\n",
    "    # display result as fractional improvement over baseline\n",
    "    pct_dScore = (score - baseline_score) / baseline_score\n",
    "    print('percent change in classification accuracy: ' + str(pct_dScore))\n",
    "\n",
    "# save the best score\n",
    "all_scores['feature_engineering'] = np.max(fe_scores)"
   ],
   "metadata": {
    "collapsed": false
   }
  },
  {
   "cell_type": "markdown",
   "source": [
    "#### So that feature engineering (plus regularization) brought us from ~0.8 to ~0.82 accuracy"
   ],
   "metadata": {
    "collapsed": false
   }
  },
  {
   "cell_type": "markdown",
   "source": [
    "#### Now it's time to switch things up with a different model architecture\n",
    "We're going to start with a feedforward network (relu units, trained with dropout)"
   ],
   "metadata": {
    "collapsed": false
   }
  },
  {
   "cell_type": "code",
   "execution_count": 40,
   "outputs": [],
   "source": [
    "# define some parameters for our network\n",
    "num_units_per_layer = 300\n",
    "num_hidden_layers = 10\n",
    "batch_size = 1000\n",
    "num_epochs = 500\n",
    "dropout_p  = 0.1\n",
    "input_dim = X_train.shape[1]"
   ],
   "metadata": {
    "collapsed": false
   }
  },
  {
   "cell_type": "code",
   "execution_count": 41,
   "outputs": [],
   "source": [
    "import sys\n",
    "sys.path.append('/Users/andrew/Documents/GitHub/data_science/obesity_prediction/code/')\n",
    "from torch.utils.data import DataLoader\n",
    "import utils\n",
    "import torch\n",
    "\n",
    "# define the dataset and dataloader (both make passing data to the model easier)\n",
    "dataset    = utils.FF_dataset(data=X_train.astype('float16'), targets=Y_train.astype('float16').reshape(-1,1))\n",
    "dataloader = DataLoader(dataset, batch_size=batch_size, shuffle=True)"
   ],
   "metadata": {
    "collapsed": false
   }
  },
  {
   "cell_type": "code",
   "execution_count": 42,
   "outputs": [
    {
     "data": {
      "text/plain": "<Figure size 640x480 with 1 Axes>",
      "image/png": "[encoded data removed]"
     },
     "metadata": {},
     "output_type": "display_data"
    }
   ],
   "source": [
    "# initialize the network\n",
    "net = utils.FF_network(input_dim=input_dim, num_hidden_layers=num_hidden_layers,\n",
    "                               num_units_per_layer=num_units_per_layer, dropout_p=dropout_p)\n",
    "# define an optimizer (using default ADAM parameters)\n",
    "# get a list of the named parameters\n",
    "optimizer = torch.optim.Adam(net.parameters())\n",
    "\n",
    "# use a simple MSE loss function\n",
    "criterion = torch.nn.BCELoss()\n",
    "\n",
    "# train the network\n",
    "allLoss = []\n",
    "\n",
    "for epoch in range(num_epochs):\n",
    "\n",
    "    for ii, (x, y) in enumerate(dataloader):\n",
    "\n",
    "        # make sure we're in training mode (the drop-out layers are active)\n",
    "        net.train()\n",
    "\n",
    "        # clear the gradient\n",
    "        optimizer.zero_grad()\n",
    "\n",
    "        # forward pass\n",
    "        out = net(x)\n",
    "\n",
    "        # calculate loss\n",
    "        loss = criterion(out, y)\n",
    "        allLoss.append(loss.detach().numpy())\n",
    "\n",
    "        # calculate gradient\n",
    "        loss.backward()\n",
    "\n",
    "        # update parameters\n",
    "        optimizer.step()\n",
    "\n",
    "# plot the loss across batches\n",
    "plt.plot(allLoss);"
   ],
   "metadata": {
    "collapsed": false
   }
  },
  {
   "cell_type": "code",
   "execution_count": 43,
   "outputs": [
    {
     "name": "stdout",
     "output_type": "stream",
     "text": [
      "classification accuracy: 0.867533718689788\n",
      "percent change in classification accuracy: 0.07973621103117502\n"
     ]
    }
   ],
   "source": [
    "# test on the held-out data\n",
    "net.eval()\n",
    "Y_hat = net(torch.Tensor(X_test.astype('float16')))\n",
    "Y_hat = Y_hat.detach().numpy()[:,0]\n",
    "\n",
    "# convert to prediction\n",
    "Y_hat[Y_hat<0.5] = 0\n",
    "Y_hat[Y_hat>=0.5] = 1\n",
    "\n",
    "# calculate accuracy\n",
    "score = sum(Y_test == Y_hat) / len(Y_test)\n",
    "\n",
    "# display result as fractional improvement over baseline\n",
    "pct_dScore = (score - baseline_score) / baseline_score\n",
    "print('classification accuracy: ' + str(score))\n",
    "print('percent change in classification accuracy: ' + str(pct_dScore))\n",
    "\n",
    "# save the score\n",
    "all_scores['ff_net'] = score"
   ],
   "metadata": {
    "collapsed": false
   }
  },
  {
   "cell_type": "markdown",
   "source": [
    "#### Now things are looking better.\n",
    "Let's optimize the hyperparameters with a simple grid search\n",
    "Will choose hyperparameters using performance on a validation set"
   ],
   "metadata": {
    "collapsed": false
   }
  },
  {
   "cell_type": "code",
   "execution_count": 44,
   "outputs": [],
   "source": [
    "# define our hyperparameter grid\n",
    "units_per_layer_grid = np.linspace(200,500,3)\n",
    "num_layers_grid      = np.linspace(5,50,3)\n",
    "p_dropout_grid       = np.linspace(0.05,0.6,3)"
   ],
   "metadata": {
    "collapsed": false
   }
  },
  {
   "cell_type": "code",
   "execution_count": 45,
   "outputs": [],
   "source": [
    "# define our train and validation sets\n",
    "percent_validation = 0.1\n",
    "numValidation = round(X_train.shape[0] * percent_validation)\n",
    "\n",
    "X_val = X_train[:numValidation,:]\n",
    "Y_val = Y_train[:numValidation]\n",
    "X_train_search = X_train[numValidation:,:]\n",
    "Y_train_search = Y_train[numValidation:]\n",
    "\n",
    "# each model is going to be trained until the validation error starts to increase.\n",
    "# define the number of epochs in each 'cycle'\n",
    "num_epochs_per_cycle = 15\n",
    "\n",
    "# define a new dataset and dataloader\n",
    "dataset_search    = utils.FF_dataset(data=X_train_search.astype('float16'), targets=Y_train_search.astype('float16').reshape(-1,1))\n",
    "dataloader_search = DataLoader(dataset_search, batch_size=batch_size, shuffle=True)"
   ],
   "metadata": {
    "collapsed": false
   }
  },
  {
   "cell_type": "code",
   "execution_count": 46,
   "outputs": [
    {
     "data": {
      "text/plain": "'cycle number: 0'"
     },
     "metadata": {},
     "output_type": "display_data"
    },
    {
     "data": {
      "text/plain": "'cycle number: 1'"
     },
     "metadata": {},
     "output_type": "display_data"
    },
    {
     "data": {
      "text/plain": "'cycle number: 2'"
     },
     "metadata": {},
     "output_type": "display_data"
    },
    {
     "data": {
      "text/plain": "'cycle number: 3'"
     },
     "metadata": {},
     "output_type": "display_data"
    },
    {
     "data": {
      "text/plain": "'cycle number: 4'"
     },
     "metadata": {},
     "output_type": "display_data"
    },
    {
     "data": {
      "text/plain": "'cycle number: 5'"
     },
     "metadata": {},
     "output_type": "display_data"
    },
    {
     "data": {
      "text/plain": "'cycle number: 0'"
     },
     "metadata": {},
     "output_type": "display_data"
    },
    {
     "data": {
      "text/plain": "'cycle number: 1'"
     },
     "metadata": {},
     "output_type": "display_data"
    },
    {
     "data": {
      "text/plain": "'cycle number: 2'"
     },
     "metadata": {},
     "output_type": "display_data"
    },
    {
     "data": {
      "text/plain": "'cycle number: 3'"
     },
     "metadata": {},
     "output_type": "display_data"
    },
    {
     "data": {
      "text/plain": "'cycle number: 0'"
     },
     "metadata": {},
     "output_type": "display_data"
    },
    {
     "data": {
      "text/plain": "'cycle number: 1'"
     },
     "metadata": {},
     "output_type": "display_data"
    },
    {
     "data": {
      "text/plain": "'cycle number: 2'"
     },
     "metadata": {},
     "output_type": "display_data"
    },
    {
     "data": {
      "text/plain": "'cycle number: 3'"
     },
     "metadata": {},
     "output_type": "display_data"
    },
    {
     "data": {
      "text/plain": "'cycle number: 0'"
     },
     "metadata": {},
     "output_type": "display_data"
    },
    {
     "data": {
      "text/plain": "'cycle number: 1'"
     },
     "metadata": {},
     "output_type": "display_data"
    },
    {
     "data": {
      "text/plain": "'cycle number: 0'"
     },
     "metadata": {},
     "output_type": "display_data"
    },
    {
     "data": {
      "text/plain": "'cycle number: 1'"
     },
     "metadata": {},
     "output_type": "display_data"
    },
    {
     "data": {
      "text/plain": "'cycle number: 0'"
     },
     "metadata": {},
     "output_type": "display_data"
    },
    {
     "data": {
      "text/plain": "'cycle number: 1'"
     },
     "metadata": {},
     "output_type": "display_data"
    },
    {
     "data": {
      "text/plain": "'cycle number: 0'"
     },
     "metadata": {},
     "output_type": "display_data"
    },
    {
     "data": {
      "text/plain": "'cycle number: 1'"
     },
     "metadata": {},
     "output_type": "display_data"
    },
    {
     "data": {
      "text/plain": "'cycle number: 0'"
     },
     "metadata": {},
     "output_type": "display_data"
    },
    {
     "data": {
      "text/plain": "'cycle number: 1'"
     },
     "metadata": {},
     "output_type": "display_data"
    },
    {
     "data": {
      "text/plain": "'cycle number: 0'"
     },
     "metadata": {},
     "output_type": "display_data"
    },
    {
     "data": {
      "text/plain": "'cycle number: 1'"
     },
     "metadata": {},
     "output_type": "display_data"
    },
    {
     "data": {
      "text/plain": "'cycle number: 0'"
     },
     "metadata": {},
     "output_type": "display_data"
    },
    {
     "data": {
      "text/plain": "'cycle number: 1'"
     },
     "metadata": {},
     "output_type": "display_data"
    },
    {
     "data": {
      "text/plain": "'cycle number: 2'"
     },
     "metadata": {},
     "output_type": "display_data"
    },
    {
     "data": {
      "text/plain": "'cycle number: 3'"
     },
     "metadata": {},
     "output_type": "display_data"
    },
    {
     "data": {
      "text/plain": "'cycle number: 0'"
     },
     "metadata": {},
     "output_type": "display_data"
    },
    {
     "data": {
      "text/plain": "'cycle number: 1'"
     },
     "metadata": {},
     "output_type": "display_data"
    },
    {
     "data": {
      "text/plain": "'cycle number: 2'"
     },
     "metadata": {},
     "output_type": "display_data"
    },
    {
     "data": {
      "text/plain": "'cycle number: 3'"
     },
     "metadata": {},
     "output_type": "display_data"
    },
    {
     "data": {
      "text/plain": "'cycle number: 4'"
     },
     "metadata": {},
     "output_type": "display_data"
    },
    {
     "data": {
      "text/plain": "'cycle number: 5'"
     },
     "metadata": {},
     "output_type": "display_data"
    },
    {
     "data": {
      "text/plain": "'cycle number: 6'"
     },
     "metadata": {},
     "output_type": "display_data"
    },
    {
     "data": {
      "text/plain": "'cycle number: 0'"
     },
     "metadata": {},
     "output_type": "display_data"
    },
    {
     "data": {
      "text/plain": "'cycle number: 1'"
     },
     "metadata": {},
     "output_type": "display_data"
    },
    {
     "data": {
      "text/plain": "'cycle number: 2'"
     },
     "metadata": {},
     "output_type": "display_data"
    },
    {
     "data": {
      "text/plain": "'cycle number: 3'"
     },
     "metadata": {},
     "output_type": "display_data"
    },
    {
     "data": {
      "text/plain": "'cycle number: 0'"
     },
     "metadata": {},
     "output_type": "display_data"
    },
    {
     "data": {
      "text/plain": "'cycle number: 1'"
     },
     "metadata": {},
     "output_type": "display_data"
    },
    {
     "data": {
      "text/plain": "'cycle number: 0'"
     },
     "metadata": {},
     "output_type": "display_data"
    },
    {
     "data": {
      "text/plain": "'cycle number: 1'"
     },
     "metadata": {},
     "output_type": "display_data"
    },
    {
     "data": {
      "text/plain": "'cycle number: 0'"
     },
     "metadata": {},
     "output_type": "display_data"
    },
    {
     "data": {
      "text/plain": "'cycle number: 1'"
     },
     "metadata": {},
     "output_type": "display_data"
    },
    {
     "data": {
      "text/plain": "'cycle number: 0'"
     },
     "metadata": {},
     "output_type": "display_data"
    },
    {
     "data": {
      "text/plain": "'cycle number: 1'"
     },
     "metadata": {},
     "output_type": "display_data"
    },
    {
     "data": {
      "text/plain": "'cycle number: 0'"
     },
     "metadata": {},
     "output_type": "display_data"
    },
    {
     "data": {
      "text/plain": "'cycle number: 1'"
     },
     "metadata": {},
     "output_type": "display_data"
    },
    {
     "data": {
      "text/plain": "'cycle number: 0'"
     },
     "metadata": {},
     "output_type": "display_data"
    },
    {
     "data": {
      "text/plain": "'cycle number: 1'"
     },
     "metadata": {},
     "output_type": "display_data"
    },
    {
     "data": {
      "text/plain": "'cycle number: 0'"
     },
     "metadata": {},
     "output_type": "display_data"
    },
    {
     "data": {
      "text/plain": "'cycle number: 1'"
     },
     "metadata": {},
     "output_type": "display_data"
    },
    {
     "data": {
      "text/plain": "'cycle number: 2'"
     },
     "metadata": {},
     "output_type": "display_data"
    },
    {
     "data": {
      "text/plain": "'cycle number: 3'"
     },
     "metadata": {},
     "output_type": "display_data"
    },
    {
     "data": {
      "text/plain": "'cycle number: 0'"
     },
     "metadata": {},
     "output_type": "display_data"
    },
    {
     "data": {
      "text/plain": "'cycle number: 1'"
     },
     "metadata": {},
     "output_type": "display_data"
    },
    {
     "data": {
      "text/plain": "'cycle number: 2'"
     },
     "metadata": {},
     "output_type": "display_data"
    },
    {
     "data": {
      "text/plain": "'cycle number: 3'"
     },
     "metadata": {},
     "output_type": "display_data"
    },
    {
     "data": {
      "text/plain": "'cycle number: 0'"
     },
     "metadata": {},
     "output_type": "display_data"
    },
    {
     "data": {
      "text/plain": "'cycle number: 1'"
     },
     "metadata": {},
     "output_type": "display_data"
    },
    {
     "data": {
      "text/plain": "'cycle number: 2'"
     },
     "metadata": {},
     "output_type": "display_data"
    },
    {
     "data": {
      "text/plain": "'cycle number: 3'"
     },
     "metadata": {},
     "output_type": "display_data"
    },
    {
     "data": {
      "text/plain": "'cycle number: 4'"
     },
     "metadata": {},
     "output_type": "display_data"
    },
    {
     "data": {
      "text/plain": "'cycle number: 0'"
     },
     "metadata": {},
     "output_type": "display_data"
    },
    {
     "data": {
      "text/plain": "'cycle number: 1'"
     },
     "metadata": {},
     "output_type": "display_data"
    },
    {
     "data": {
      "text/plain": "'cycle number: 0'"
     },
     "metadata": {},
     "output_type": "display_data"
    },
    {
     "data": {
      "text/plain": "'cycle number: 1'"
     },
     "metadata": {},
     "output_type": "display_data"
    },
    {
     "data": {
      "text/plain": "'cycle number: 0'"
     },
     "metadata": {},
     "output_type": "display_data"
    },
    {
     "data": {
      "text/plain": "'cycle number: 1'"
     },
     "metadata": {},
     "output_type": "display_data"
    },
    {
     "data": {
      "text/plain": "'cycle number: 0'"
     },
     "metadata": {},
     "output_type": "display_data"
    },
    {
     "data": {
      "text/plain": "'cycle number: 1'"
     },
     "metadata": {},
     "output_type": "display_data"
    },
    {
     "data": {
      "text/plain": "'cycle number: 0'"
     },
     "metadata": {},
     "output_type": "display_data"
    },
    {
     "data": {
      "text/plain": "'cycle number: 1'"
     },
     "metadata": {},
     "output_type": "display_data"
    },
    {
     "data": {
      "text/plain": "'cycle number: 0'"
     },
     "metadata": {},
     "output_type": "display_data"
    },
    {
     "data": {
      "text/plain": "'cycle number: 1'"
     },
     "metadata": {},
     "output_type": "display_data"
    }
   ],
   "source": [
    "# initialize array to hold validation set performance\n",
    "val_accuracy = np.zeros((3,3,3)) * np.nan\n",
    "\n",
    "# cycle through the hyperparameters\n",
    "for ii,units in enumerate(units_per_layer_grid):\n",
    "    for jj, layers in enumerate(num_layers_grid):\n",
    "        for kk, pDrop in enumerate(p_dropout_grid):\n",
    "\n",
    "            # initialize the network\n",
    "            net = utils.FF_network(input_dim=input_dim, num_hidden_layers=int(layers),\n",
    "                                           num_units_per_layer=int(units), dropout_p=pDrop)\n",
    "\n",
    "            # define an optimizer (using default ADAM parameters)\n",
    "            # get a list of the named parameters\n",
    "            optimizer = torch.optim.Adam(net.parameters())\n",
    "\n",
    "            # use a simple MSE loss function\n",
    "            criterion = torch.nn.BCELoss()\n",
    "\n",
    "            # keep track of the validation loss\n",
    "            valScore = -np.inf\n",
    "            contFlg = True\n",
    "            cycleCounter=0\n",
    "\n",
    "            # run through epochs as long as the validation loss is decreasing\n",
    "            while contFlg:\n",
    "                display('cycle number: ' + str(cycleCounter))\n",
    "\n",
    "                for epoch in range(num_epochs_per_cycle):\n",
    "\n",
    "                    for i, (x, y) in enumerate(dataloader_search):\n",
    "\n",
    "                        # make sure we're in training mode (the drop-out layers are active)\n",
    "                        net.train()\n",
    "\n",
    "                        # clear the gradient\n",
    "                        optimizer.zero_grad()\n",
    "\n",
    "                        # forward pass\n",
    "                        out = net(x)\n",
    "\n",
    "                        # calculate loss\n",
    "                        loss = criterion(out, y)\n",
    "\n",
    "                        # calculate gradient\n",
    "                        loss.backward()\n",
    "\n",
    "                        # update parameters\n",
    "                        optimizer.step()\n",
    "\n",
    "                # calculate loss on validation data\n",
    "                net.eval()\n",
    "                Y_hat = net(torch.Tensor(X_val.astype('float16')))\n",
    "                Y_hat = Y_hat.detach().numpy()[:,0]\n",
    "\n",
    "                # convert to prediction\n",
    "                Y_hat[Y_hat<0.5] = 0\n",
    "                Y_hat[Y_hat>=0.5] = 1\n",
    "\n",
    "                # calculate accuracy\n",
    "                score = sum(Y_val == Y_hat) / len(Y_test)\n",
    "\n",
    "                # check to see if validation loss decreased\n",
    "                if score > valScore:\n",
    "                    valScore = np.copy(score)\n",
    "                    cycleCounter+=1\n",
    "                else:\n",
    "                    contFlg = False\n",
    "                    val_accuracy[ii,jj,kk] = valScore\n"
   ],
   "metadata": {
    "collapsed": false
   }
  },
  {
   "cell_type": "code",
   "execution_count": 48,
   "outputs": [],
   "source": [
    "import scipy\n",
    "\n",
    "# interpolate to get higher resolution\n",
    "units_per_layer_grid_int = np.linspace(200,500,10)\n",
    "num_layers_grid_int     = np.linspace(5,50,10)\n",
    "p_dropout_grid_int      = np.linspace(0.05,0.6,10)\n",
    "\n",
    "# generate 2D array of our known data points\n",
    "xv, yv, zv = np.meshgrid(units_per_layer_grid, num_layers_grid, p_dropout_grid, indexing='ij')\n",
    "points = np.concatenate([x.reshape(-1,1,order='F') for x in [xv, yv, zv]],axis=1)\n",
    "\n",
    "# make a 2D array of the desired data point\n",
    "xv, yv, zv = np.meshgrid(units_per_layer_grid_int, num_layers_grid_int, p_dropout_grid_int, indexing='ij')\n",
    "\n",
    "# flatten our values\n",
    "val_flat = val_accuracy.reshape(-1,1,order='F');\n",
    "\n",
    "# interpolate\n",
    "interp_grid = scipy.interpolate.griddata(points, val_flat, (xv, yv, zv), method='linear')\n",
    "\n",
    "# find the maximum (interpolated) value)\n",
    "m_ii, m_jj, m_kk = np.unravel_index(np.argmax(interp_grid), (10,10,10), order='C')\n",
    "\n",
    "# pull out the parameters associated with the maximum value\n",
    "units_per_layer_opt = units_per_layer_grid_int[m_ii]\n",
    "num_layers_grid_opt = num_layers_grid_int[m_jj]\n",
    "p_dropout_grid_opt  = p_dropout_grid_int[m_kk]"
   ],
   "metadata": {
    "collapsed": false
   }
  },
  {
   "cell_type": "code",
   "execution_count": 49,
   "outputs": [
    {
     "data": {
      "text/plain": "<Figure size 640x480 with 1 Axes>",
      "image/png": "[encoded data removed]"
     },
     "metadata": {},
     "output_type": "display_data"
    }
   ],
   "source": [
    "# train a new network with these parameters\n",
    "\n",
    "# up the number of epochs\n",
    "num_epochs = 1000\n",
    "\n",
    "# initialize the network\n",
    "net = utils.FF_network(input_dim=input_dim, num_hidden_layers=int(num_layers_grid_opt),\n",
    "                               num_units_per_layer=int(units_per_layer_opt), dropout_p=p_dropout_grid_opt)\n",
    "\n",
    "# define an optimizer (using default ADAM parameters)\n",
    "# get a list of the named parameters\n",
    "optimizer = torch.optim.Adam(net.parameters())\n",
    "\n",
    "# use a simple MSE loss function\n",
    "criterion = torch.nn.BCELoss()\n",
    "\n",
    "# train the network\n",
    "allLoss = []\n",
    "\n",
    "for epoch in range(num_epochs):\n",
    "\n",
    "    for ii, (x, y) in enumerate(dataloader):\n",
    "\n",
    "        # make sure we're in training mode (the drop-out layers are active)\n",
    "        net.train()\n",
    "\n",
    "        # clear the gradient\n",
    "        optimizer.zero_grad()\n",
    "\n",
    "        # forward pass\n",
    "        out = net(x)\n",
    "\n",
    "        # calculate loss\n",
    "        loss = criterion(out, y)\n",
    "        allLoss.append(loss.detach().numpy())\n",
    "\n",
    "        # calculate gradient\n",
    "        loss.backward()\n",
    "\n",
    "        # update parameters\n",
    "        optimizer.step()\n",
    "\n",
    "# plot the loss\n",
    "plt.plot(allLoss);"
   ],
   "metadata": {
    "collapsed": false
   }
  },
  {
   "cell_type": "code",
   "execution_count": 50,
   "outputs": [
    {
     "name": "stdout",
     "output_type": "stream",
     "text": [
      "classification accuracy: 0.8723506743737958\n",
      "percent change in classification accuracy: 0.08573141486810554\n"
     ]
    }
   ],
   "source": [
    "# test on the held-out data\n",
    "net.eval()\n",
    "Y_hat = net(torch.Tensor(X_test.astype('float16')))\n",
    "Y_hat = Y_hat.detach().numpy()[:,0]\n",
    "\n",
    "# convert to prediction\n",
    "Y_hat[Y_hat<0.5] = 0\n",
    "Y_hat[Y_hat>=0.5] = 1\n",
    "\n",
    "# calculate accuracy\n",
    "score = sum(Y_test == Y_hat) / len(Y_test)\n",
    "\n",
    "# save accuracy\n",
    "all_scores['ff_net_opt'] = score\n",
    "\n",
    "# display result as fractional improvement over baseline\n",
    "pct_dScore = (score - baseline_score) / baseline_score\n",
    "print('classification accuracy: ' + str(score))\n",
    "print('percent change in classification accuracy: ' + str(pct_dScore))"
   ],
   "metadata": {
    "collapsed": false
   }
  },
  {
   "cell_type": "markdown",
   "source": [
    "#### Things are looking much better now, but let's see how much things improve by 'ensembling' models"
   ],
   "metadata": {
    "collapsed": false
   }
  },
  {
   "cell_type": "markdown",
   "source": [
    "### our first ensemble is going to be a random forest classifier.\n",
    "Before we get to that, let's look at how a single tree performs"
   ],
   "metadata": {
    "collapsed": false
   }
  },
  {
   "cell_type": "code",
   "execution_count": 51,
   "outputs": [
    {
     "name": "stdout",
     "output_type": "stream",
     "text": [
      "classification accuracy: 0.8660886319845857\n"
     ]
    }
   ],
   "source": [
    "from sklearn import tree\n",
    "clf = tree.DecisionTreeClassifier()\n",
    "clf.fit(X_train,Y_train)\n",
    "Y_hat = clf.predict(X_test)\n",
    "\n",
    "# calculate accuracy\n",
    "score = sum(Y_test == Y_hat) / len(Y_test)\n",
    "print('classification accuracy: ' + str(score))\n",
    "\n",
    "# save score\n",
    "all_scores['decision_tree'] = score"
   ],
   "metadata": {
    "collapsed": false
   }
  },
  {
   "cell_type": "markdown",
   "source": [
    "#### surprisingly, a simple decision tree nearly beats our optimized network!"
   ],
   "metadata": {
    "collapsed": false
   }
  },
  {
   "cell_type": "markdown",
   "source": [
    "#### train a random forest classifier\n",
    "very simple emsemble method. We're going to train a bunch of individual decision trees on bootstrapped collections of the data. This method nicely combats overfitting.\n",
    "the final prediction is made by allowing each tree to 'vote'. Most popular classification wins.\n"
   ],
   "metadata": {
    "collapsed": false
   }
  },
  {
   "cell_type": "code",
   "execution_count": 52,
   "outputs": [],
   "source": [
    "from numpy.random import choice\n",
    "\n",
    "# number of trees in our forest\n",
    "num_trees = 100\n",
    "\n",
    "# for each tree, bootstrap our training data\n",
    "\n",
    "# number of training samples\n",
    "num_samples  = X_train.shape[0]\n",
    "\n",
    "# list to hold our trees\n",
    "Trees = []\n",
    "for ii in range(num_trees):\n",
    "\n",
    "    # get the bootstrapped data\n",
    "    idx = choice(np.arange(num_samples), num_samples)\n",
    "    Trees.append(tree.DecisionTreeClassifier().fit(X_train[idx,:], Y_train[idx]))\n",
    "\n"
   ],
   "metadata": {
    "collapsed": false
   }
  },
  {
   "cell_type": "code",
   "execution_count": 53,
   "outputs": [
    {
     "name": "stdout",
     "output_type": "stream",
     "text": [
      "classification accuracy: 0.8872832369942196\n"
     ]
    }
   ],
   "source": [
    "# get the predictions of each tree within the forest (on the test data). Count votes to decide final answer\n",
    "test_out = [tree.predict(X_test) for tree in Trees]\n",
    "\n",
    "# convert into array\n",
    "test_out_array = np.array(test_out)\n",
    "\n",
    "# find most popular output for each input\n",
    "Y_hat = np.sum(test_out_array, axis=0) >= (num_trees/2)\n",
    "\n",
    "# calculate accuracy\n",
    "score = sum(Y_test == Y_hat) / len(Y_test)\n",
    "print('classification accuracy: ' + str(score))\n",
    "\n",
    "# save result\n",
    "all_scores['random_forest_scratch'] = score"
   ],
   "metadata": {
    "collapsed": false
   }
  },
  {
   "cell_type": "markdown",
   "source": [
    "#### the random forest classifier is beating our network handily!\n",
    "just for comparison, use the built-in random forest classifier"
   ],
   "metadata": {
    "collapsed": false
   }
  },
  {
   "cell_type": "code",
   "execution_count": 54,
   "outputs": [
    {
     "name": "stdout",
     "output_type": "stream",
     "text": [
      "classification accuracy: 0.9065510597302505\n"
     ]
    }
   ],
   "source": [
    "from sklearn.ensemble import RandomForestClassifier\n",
    "clf = RandomForestClassifier(n_estimators=1000, n_jobs=-1)\n",
    "clf.fit(X_train,Y_train)\n",
    "\n",
    "Y_hat = clf.predict(X_test)\n",
    "\n",
    "# calculate accuracy\n",
    "score = sum(Y_test == Y_hat) / len(Y_test)\n",
    "print('classification accuracy: ' + str(score))\n",
    "\n",
    "# save result\n",
    "all_scores['random_forest_sklearn'] = score"
   ],
   "metadata": {
    "collapsed": false
   }
  },
  {
   "cell_type": "markdown",
   "source": [
    "#### Now we're easily beating our network\n",
    "Seems like we top out at ~0.907 classification accuracy"
   ],
   "metadata": {
    "collapsed": false
   }
  },
  {
   "cell_type": "markdown",
   "source": [
    "#### Try a gradient boosting classifier\n",
    "Another popular ensemble method. Here, we add decision trees linearly, and train each successive tree on the gradient (loss wrt change in tree parameters) of the previous tree."
   ],
   "metadata": {
    "collapsed": false
   }
  },
  {
   "cell_type": "code",
   "execution_count": 55,
   "outputs": [
    {
     "name": "stdout",
     "output_type": "stream",
     "text": [
      "classification accuracy: 0.903179190751445\n"
     ]
    }
   ],
   "source": [
    "from sklearn.ensemble import GradientBoostingClassifier\n",
    "clf = GradientBoostingClassifier(validation_fraction = 0.1, n_estimators = 1000)\n",
    "clf.fit(X_train,Y_train)\n",
    "\n",
    "Y_hat = clf.predict(X_test)\n",
    "\n",
    "# calculate accuracy\n",
    "score = sum(Y_test == Y_hat) / len(Y_test)\n",
    "print('classification accuracy: ' + str(score))\n",
    "\n",
    "# save result\n",
    "all_scores['gradiant_boosting'] = score"
   ],
   "metadata": {
    "collapsed": false
   }
  },
  {
   "cell_type": "markdown",
   "source": [
    "#### The kitchen sink\n",
    "Here, we're going to train a few different ensemble methods, and use the output of each ensemble as input to a final logistic classifier.\n",
    "While this method could very likely outperform all others (for obvious reasons), doing so may require a significant amount of hyperparameter optimization."
   ],
   "metadata": {
    "collapsed": false
   }
  },
  {
   "cell_type": "code",
   "execution_count": 56,
   "outputs": [
    {
     "data": {
      "text/plain": "StackingClassifier(estimators=[('ada', AdaBoostClassifier(n_estimators=500)),\n                               ('bag', BaggingClassifier(n_estimators=500)),\n                               ('ext', ExtraTreesClassifier(n_estimators=500)),\n                               ('grd',\n                                GradientBoostingClassifier(n_estimators=500)),\n                               ('rdm',\n                                RandomForestClassifier(n_estimators=500))],\n                   final_estimator=LogisticRegression(), n_jobs=-1)",
      "text/html": "<style>#sk-container-id-1 {color: black;background-color: white;}#sk-container-id-1 pre{padding: 0;}#sk-container-id-1 div.sk-toggleable {background-color: white;}#sk-container-id-1 label.sk-toggleable__label {cursor: pointer;display: block;width: 100%;margin-bottom: 0;padding: 0.3em;box-sizing: border-box;text-align: center;}#sk-container-id-1 label.sk-toggleable__label-arrow:before {content: \"▸\";float: left;margin-right: 0.25em;color: #696969;}#sk-container-id-1 label.sk-toggleable__label-arrow:hover:before {color: black;}#sk-container-id-1 div.sk-estimator:hover label.sk-toggleable__label-arrow:before {color: black;}#sk-container-id-1 div.sk-toggleable__content {max-height: 0;max-width: 0;overflow: hidden;text-align: left;background-color: #f0f8ff;}#sk-container-id-1 div.sk-toggleable__content pre {margin: 0.2em;color: black;border-radius: 0.25em;background-color: #f0f8ff;}#sk-container-id-1 input.sk-toggleable__control:checked~div.sk-toggleable__content {max-height: 200px;max-width: 100%;overflow: auto;}#sk-container-id-1 input.sk-toggleable__control:checked~label.sk-toggleable__label-arrow:before {content: \"▾\";}#sk-container-id-1 div.sk-estimator input.sk-toggleable__control:checked~label.sk-toggleable__label {background-color: #d4ebff;}#sk-container-id-1 div.sk-label input.sk-toggleable__control:checked~label.sk-toggleable__label {background-color: #d4ebff;}#sk-container-id-1 input.sk-hidden--visually {border: 0;clip: rect(1px 1px 1px 1px);clip: rect(1px, 1px, 1px, 1px);height: 1px;margin: -1px;overflow: hidden;padding: 0;position: absolute;width: 1px;}#sk-container-id-1 div.sk-estimator {font-family: monospace;background-color: #f0f8ff;border: 1px dotted black;border-radius: 0.25em;box-sizing: border-box;margin-bottom: 0.5em;}#sk-container-id-1 div.sk-estimator:hover {background-color: #d4ebff;}#sk-container-id-1 div.sk-parallel-item::after {content: \"\";width: 100%;border-bottom: 1px solid gray;flex-grow: 1;}#sk-container-id-1 div.sk-label:hover label.sk-toggleable__label {background-color: #d4ebff;}#sk-container-id-1 div.sk-serial::before {content: \"\";position: absolute;border-left: 1px solid gray;box-sizing: border-box;top: 0;bottom: 0;left: 50%;z-index: 0;}#sk-container-id-1 div.sk-serial {display: flex;flex-direction: column;align-items: center;background-color: white;padding-right: 0.2em;padding-left: 0.2em;position: relative;}#sk-container-id-1 div.sk-item {position: relative;z-index: 1;}#sk-container-id-1 div.sk-parallel {display: flex;align-items: stretch;justify-content: center;background-color: white;position: relative;}#sk-container-id-1 div.sk-item::before, #sk-container-id-1 div.sk-parallel-item::before {content: \"\";position: absolute;border-left: 1px solid gray;box-sizing: border-box;top: 0;bottom: 0;left: 50%;z-index: -1;}#sk-container-id-1 div.sk-parallel-item {display: flex;flex-direction: column;z-index: 1;position: relative;background-color: white;}#sk-container-id-1 div.sk-parallel-item:first-child::after {align-self: flex-end;width: 50%;}#sk-container-id-1 div.sk-parallel-item:last-child::after {align-self: flex-start;width: 50%;}#sk-container-id-1 div.sk-parallel-item:only-child::after {width: 0;}#sk-container-id-1 div.sk-dashed-wrapped {border: 1px dashed gray;margin: 0 0.4em 0.5em 0.4em;box-sizing: border-box;padding-bottom: 0.4em;background-color: white;}#sk-container-id-1 div.sk-label label {font-family: monospace;font-weight: bold;display: inline-block;line-height: 1.2em;}#sk-container-id-1 div.sk-label-container {text-align: center;}#sk-container-id-1 div.sk-container {/* jupyter's `normalize.less` sets `[hidden] { display: none; }` but bootstrap.min.css set `[hidden] { display: none !important; }` so we also need the `!important` here to be able to override the default hidden behavior on the sphinx rendered scikit-learn.org. See: https://github.com/scikit-learn/scikit-learn/issues/21755 */display: inline-block !important;position: relative;}#sk-container-id-1 div.sk-text-repr-fallback {display: none;}</style><div id=\"sk-container-id-1\" class=\"sk-top-container\"><div class=\"sk-text-repr-fallback\"><pre>StackingClassifier(estimators=[(&#x27;ada&#x27;, AdaBoostClassifier(n_estimators=500)),\n                               (&#x27;bag&#x27;, BaggingClassifier(n_estimators=500)),\n                               (&#x27;ext&#x27;, ExtraTreesClassifier(n_estimators=500)),\n                               (&#x27;grd&#x27;,\n                                GradientBoostingClassifier(n_estimators=500)),\n                               (&#x27;rdm&#x27;,\n                                RandomForestClassifier(n_estimators=500))],\n                   final_estimator=LogisticRegression(), n_jobs=-1)</pre><b>In a Jupyter environment, please rerun this cell to show the HTML representation or trust the notebook. <br />On GitHub, the HTML representation is unable to render, please try loading this page with nbviewer.org.</b></div><div class=\"sk-container\" hidden><div class=\"sk-item sk-dashed-wrapped\"><div class=\"sk-label-container\"><div class=\"sk-label sk-toggleable\"><input class=\"sk-toggleable__control sk-hidden--visually\" id=\"sk-estimator-id-1\" type=\"checkbox\" ><label for=\"sk-estimator-id-1\" class=\"sk-toggleable__label sk-toggleable__label-arrow\">StackingClassifier</label><div class=\"sk-toggleable__content\"><pre>StackingClassifier(estimators=[(&#x27;ada&#x27;, AdaBoostClassifier(n_estimators=500)),\n                               (&#x27;bag&#x27;, BaggingClassifier(n_estimators=500)),\n                               (&#x27;ext&#x27;, ExtraTreesClassifier(n_estimators=500)),\n                               (&#x27;grd&#x27;,\n                                GradientBoostingClassifier(n_estimators=500)),\n                               (&#x27;rdm&#x27;,\n                                RandomForestClassifier(n_estimators=500))],\n                   final_estimator=LogisticRegression(), n_jobs=-1)</pre></div></div></div><div class=\"sk-serial\"><div class=\"sk-item\"><div class=\"sk-parallel\"><div class=\"sk-parallel-item\"><div class=\"sk-item\"><div class=\"sk-label-container\"><div class=\"sk-label sk-toggleable\"><label>ada</label></div></div><div class=\"sk-serial\"><div class=\"sk-item\"><div class=\"sk-estimator sk-toggleable\"><input class=\"sk-toggleable__control sk-hidden--visually\" id=\"sk-estimator-id-2\" type=\"checkbox\" ><label for=\"sk-estimator-id-2\" class=\"sk-toggleable__label sk-toggleable__label-arrow\">AdaBoostClassifier</label><div class=\"sk-toggleable__content\"><pre>AdaBoostClassifier(n_estimators=500)</pre></div></div></div></div></div></div><div class=\"sk-parallel-item\"><div class=\"sk-item\"><div class=\"sk-label-container\"><div class=\"sk-label sk-toggleable\"><label>bag</label></div></div><div class=\"sk-serial\"><div class=\"sk-item\"><div class=\"sk-estimator sk-toggleable\"><input class=\"sk-toggleable__control sk-hidden--visually\" id=\"sk-estimator-id-3\" type=\"checkbox\" ><label for=\"sk-estimator-id-3\" class=\"sk-toggleable__label sk-toggleable__label-arrow\">BaggingClassifier</label><div class=\"sk-toggleable__content\"><pre>BaggingClassifier(n_estimators=500)</pre></div></div></div></div></div></div><div class=\"sk-parallel-item\"><div class=\"sk-item\"><div class=\"sk-label-container\"><div class=\"sk-label sk-toggleable\"><label>ext</label></div></div><div class=\"sk-serial\"><div class=\"sk-item\"><div class=\"sk-estimator sk-toggleable\"><input class=\"sk-toggleable__control sk-hidden--visually\" id=\"sk-estimator-id-4\" type=\"checkbox\" ><label for=\"sk-estimator-id-4\" class=\"sk-toggleable__label sk-toggleable__label-arrow\">ExtraTreesClassifier</label><div class=\"sk-toggleable__content\"><pre>ExtraTreesClassifier(n_estimators=500)</pre></div></div></div></div></div></div><div class=\"sk-parallel-item\"><div class=\"sk-item\"><div class=\"sk-label-container\"><div class=\"sk-label sk-toggleable\"><label>grd</label></div></div><div class=\"sk-serial\"><div class=\"sk-item\"><div class=\"sk-estimator sk-toggleable\"><input class=\"sk-toggleable__control sk-hidden--visually\" id=\"sk-estimator-id-5\" type=\"checkbox\" ><label for=\"sk-estimator-id-5\" class=\"sk-toggleable__label sk-toggleable__label-arrow\">GradientBoostingClassifier</label><div class=\"sk-toggleable__content\"><pre>GradientBoostingClassifier(n_estimators=500)</pre></div></div></div></div></div></div><div class=\"sk-parallel-item\"><div class=\"sk-item\"><div class=\"sk-label-container\"><div class=\"sk-label sk-toggleable\"><label>rdm</label></div></div><div class=\"sk-serial\"><div class=\"sk-item\"><div class=\"sk-estimator sk-toggleable\"><input class=\"sk-toggleable__control sk-hidden--visually\" id=\"sk-estimator-id-6\" type=\"checkbox\" ><label for=\"sk-estimator-id-6\" class=\"sk-toggleable__label sk-toggleable__label-arrow\">RandomForestClassifier</label><div class=\"sk-toggleable__content\"><pre>RandomForestClassifier(n_estimators=500)</pre></div></div></div></div></div></div></div></div><div class=\"sk-item\"><div class=\"sk-parallel\"><div class=\"sk-parallel-item\"><div class=\"sk-item\"><div class=\"sk-label-container\"><div class=\"sk-label sk-toggleable\"><label>final_estimator</label></div></div><div class=\"sk-serial\"><div class=\"sk-item\"><div class=\"sk-estimator sk-toggleable\"><input class=\"sk-toggleable__control sk-hidden--visually\" id=\"sk-estimator-id-7\" type=\"checkbox\" ><label for=\"sk-estimator-id-7\" class=\"sk-toggleable__label sk-toggleable__label-arrow\">LogisticRegression</label><div class=\"sk-toggleable__content\"><pre>LogisticRegression()</pre></div></div></div></div></div></div></div></div></div></div></div></div>"
     },
     "execution_count": 56,
     "metadata": {},
     "output_type": "execute_result"
    }
   ],
   "source": [
    "# import all of the classifiers we haven't already\n",
    "from sklearn.ensemble import AdaBoostClassifier\n",
    "from sklearn.ensemble import BaggingClassifier\n",
    "from sklearn.ensemble import ExtraTreesClassifier\n",
    "from sklearn.ensemble import GradientBoostingClassifier\n",
    "from sklearn.ensemble import RandomForestClassifier\n",
    "from sklearn.ensemble import StackingClassifier\n",
    "\n",
    "# number of estimators per base ensemble\n",
    "n_estimators = 500\n",
    "\n",
    "# make a list of the estimators\n",
    "estimators = [('ada', AdaBoostClassifier(n_estimators = n_estimators)),\n",
    "              ('bag', BaggingClassifier(n_estimators = n_estimators)),\n",
    "              ('ext', ExtraTreesClassifier(n_estimators = n_estimators)),\n",
    "              ('grd', GradientBoostingClassifier(n_estimators = n_estimators)),\n",
    "              ('rdm', RandomForestClassifier(n_estimators = n_estimators))]\n",
    "\n",
    "clf = StackingClassifier(estimators = estimators, final_estimator=LogisticRegression(), n_jobs=-1)\n",
    "clf.fit(X_train,Y_train)"
   ],
   "metadata": {
    "collapsed": false
   }
  },
  {
   "cell_type": "code",
   "execution_count": 57,
   "outputs": [
    {
     "name": "stdout",
     "output_type": "stream",
     "text": [
      "classification accuracy: 0.9026974951830443\n"
     ]
    }
   ],
   "source": [
    "# check accuracy\n",
    "Y_hat = clf.predict(X_test)\n",
    "\n",
    "# calculate accuracy\n",
    "score = sum(Y_test == Y_hat) / len(Y_test)\n",
    "print('classification accuracy: ' + str(score))\n",
    "\n",
    "# save score\n",
    "all_scores['kitchen_sink_emsemble'] = score"
   ],
   "metadata": {
    "collapsed": false
   }
  },
  {
   "cell_type": "markdown",
   "source": [
    "#### Summarize performance of all of our classifiers"
   ],
   "metadata": {
    "collapsed": false
   }
  },
  {
   "cell_type": "code",
   "execution_count": 59,
   "outputs": [
    {
     "data": {
      "text/plain": "<Figure size 2500x1000 with 1 Axes>",
      "image/png": "[encoded data removed]"
     },
     "metadata": {},
     "output_type": "display_data"
    }
   ],
   "source": [
    "plt.figure(figsize=(25,10));\n",
    "\n",
    "# number of classifiers\n",
    "num_class = len(all_scores)\n",
    "\n",
    "# performance of each classifier\n",
    "score_vals = list(all_scores.values())\n",
    "\n",
    "# name of each classifier\n",
    "class_names = all_scores.keys()\n",
    "\n",
    "# plot\n",
    "for ii in range(num_class):\n",
    "\n",
    "    plt.bar(ii,score_vals[ii]);\n",
    "\n",
    "# clean up\n",
    "plt.xlim([-1,num_class]);\n",
    "plt.ylim([0.5, 1]);\n",
    "plt.ylabel('R$^2$');\n",
    "plt.xlabel('classifier');\n",
    "plt.xticks(ticks=np.arange(num_class), labels=class_names);\n"
   ],
   "metadata": {
    "collapsed": false
   }
  },
  {
   "cell_type": "markdown",
   "source": [
    "#### Summary of training various classifiers\n",
    "\n",
    "decision tree (and ensembles of decision trees) perform comparably (or better) than feedforward networks, while requiring a fraction of the training time.\n",
    "\n",
    "I only got a very modest improvement with my hyperparameter grid search (for the FF network). I likely would see a larger improvement with a more comprehensive/more intelligent search. For example, rather than a simple grid search, I could've used bayesian optimization."
   ],
   "metadata": {
    "collapsed": false
   }
  },
  {
   "cell_type": "markdown",
   "source": [
    "## Explore the dataset\n",
    "now that we've maxed out our classifier performance, let's use a few of the simpler classifiers to explore the relationship between the various variables and obesity"
   ],
   "metadata": {
    "collapsed": false
   }
  },
  {
   "cell_type": "code",
   "execution_count": 135,
   "outputs": [],
   "source": [
    "# pull out the names of each of the variables\n",
    "# we appended the dummy variables in the order: 'Gender', 'family_history_with_overweight', 'FAVC', 'SMOKE', 'SCC', 'MTRANS'\n",
    "\n",
    "# pull out the variable names, drop 'NObeyesdad', replace the dummy variable names with more informative names\n",
    "var_names = list(df.columns[df.columns != 'NObeyesdad'])\n",
    "\n",
    "# find the index where we started appending dummy variables\n",
    "gIdx = [ii for ii, x in enumerate(var_names) if x=='Male' or x=='Female'][0]\n",
    "\n",
    "# replace with more informative names\n",
    "var_names[gIdx] = 'Gender'\n",
    "var_names[gIdx+1] = 'family_history_overweight'\n",
    "var_names[gIdx+2] = 'FAVC'\n",
    "var_names[gIdx+3] = 'smoke'\n",
    "var_names[gIdx+4] = 'SCC'\n",
    "transport = ['bike','motorbike','public_transit','walking']\n",
    "for ii in range(5,9):\n",
    "    var_names[gIdx+ii] = transport[ii-5]\n"
   ],
   "metadata": {
    "collapsed": false
   }
  },
  {
   "cell_type": "code",
   "execution_count": 138,
   "outputs": [
    {
     "name": "stdout",
     "output_type": "stream",
     "text": [
      "classification accuracy: 0.8126204238921002\n"
     ]
    },
    {
     "data": {
      "text/plain": "<Figure size 3000x500 with 1 Axes>",
      "image/png": "[encoded data removed]"
     },
     "metadata": {},
     "output_type": "display_data"
    }
   ],
   "source": [
    "# train a logistic regression classifier\n",
    "model = LogisticRegression(penalty='l2', C=1e-2, max_iter=500 )\n",
    "\n",
    "# fit the model\n",
    "model.fit(X_train,Y_train)\n",
    "\n",
    "# test the model\n",
    "Y_hat = model.predict(X_test)\n",
    "\n",
    "# calculate and display accuracy\n",
    "score = sum(Y_test == Y_hat) / len(Y_test)\n",
    "print('classification accuracy: ' + str(score))\n",
    "\n",
    "# pull out the coefficients\n",
    "coefs = model.coef_[0,:]\n",
    "\n",
    "# plot the coefficients\n",
    "plt.figure(figsize=(30,5));\n",
    "plt.plot(abs(coefs));\n",
    "plt.xticks(np.arange(len(coefs)), labels=var_names);"
   ],
   "metadata": {
    "collapsed": false
   }
  },
  {
   "cell_type": "markdown",
   "source": [
    "we didn't normalize our variables, so we can only get a rough idea about how 'important' each of the variables are to the prediction. But from a first pass, it seems that family history of being overweight, consuming food between meals, and whether or not the person takes public transportation to work are the most informative variables\n",
    "\n",
    "To verify this impression, get p-values for each of the coefficients"
   ],
   "metadata": {
    "collapsed": false
   }
  },
  {
   "cell_type": "code",
   "execution_count": 190,
   "outputs": [
    {
     "data": {
      "text/plain": "array([9.99354507e-096, 9.13101660e-080, 3.29090314e-001, 4.70498221e-126,\n       7.86738489e-072, 1.81002850e-045, 8.18746921e-004, 3.19943827e-002,\n       8.12247162e-001, 3.38769064e-200, 1.17868707e-101, 1.88557986e-004,\n       4.48707981e-028, 7.21448878e-001, 2.15925799e-001, 1.27577895e-105,\n       1.08753904e-001, 6.40467659e-006, 1.39408256e-263])"
     },
     "execution_count": 190,
     "metadata": {},
     "output_type": "execute_result"
    }
   ],
   "source": [
    "result.pvalues"
   ],
   "metadata": {
    "collapsed": false
   }
  },
  {
   "cell_type": "code",
   "execution_count": 139,
   "outputs": [
    {
     "name": "stdout",
     "output_type": "stream",
     "text": [
      "Optimization terminated successfully.\n",
      "         Current function value: 0.441344\n",
      "         Iterations 8\n",
      "sorted variables: \n",
      "['log_age', 'family_history_overweight', 'CAEC', 'public_transit', 'FAVC', 'Age', 'FCVC', 'CH2O', 'FAF', 'SCC', 'age_bin', 'smoke', 'TUE', 'CALC', 'walking', 'motorbike', 'NCP', 'bike', 'Gender']\n"
     ]
    }
   ],
   "source": [
    "import statsmodels.api as sm\n",
    "\n",
    "model=sm.Logit(Y_train.astype('float32'),X_train.astype('float32'))\n",
    "result=model.fit()\n",
    "\n",
    "# plot the inverse of the P-values\n",
    "# sort the p-values\n",
    "idx = np.argsort(result.pvalues)\n",
    "\n",
    "# print the variables in order\n",
    "sorted_vars = [var_names[x] for x in idx]\n",
    "print('sorted variables: ')\n",
    "print(sorted_vars);\n"
   ],
   "metadata": {
    "collapsed": false
   }
  },
  {
   "cell_type": "markdown",
   "source": [
    "This is why we need to be careful about interpreting the magnitude of the coefficients if we don't normalize them! 'Log-age' is by far the 'most important' variable (p < 1e-263, while the next closest variable has a value of < 1e-200)."
   ],
   "metadata": {
    "collapsed": false
   }
  },
  {
   "cell_type": "code",
   "execution_count": 142,
   "outputs": [
    {
     "name": "stdout",
     "output_type": "stream",
     "text": [
      "classification accuracy: 0.7967244701348748\n"
     ]
    }
   ],
   "source": [
    "# I'm now going to re-train the model with only the 5 most 'useful' variables\n",
    "X_train_ds = X_train[:,idx[:5]]\n",
    "\n",
    "# train a logistic regression classifier\n",
    "model = LogisticRegression(penalty='l2', C=1e-2, max_iter=500 )\n",
    "\n",
    "# fit the model\n",
    "model.fit(X_train_ds,Y_train)\n",
    "\n",
    "# test the model\n",
    "Y_hat = model.predict(X_test[:,idx[:5]])\n",
    "\n",
    "# calculate and display accuracy\n",
    "score = sum(Y_test == Y_hat) / len(Y_test)\n",
    "print('classification accuracy: ' + str(score))\n",
    "\n",
    "#"
   ],
   "metadata": {
    "collapsed": false
   }
  },
  {
   "cell_type": "markdown",
   "source": [],
   "metadata": {
    "collapsed": false
   }
  },
  {
   "cell_type": "markdown",
   "source": [
    "after getting rid of 14 of the 19 variables, we're still able to predict nearly as well as if we used all of the variables (98% as well).\n",
    "In fact, if we only use 'log age', we can predict 89% as well (0.72 prediction accuracy on held-out data)."
   ],
   "metadata": {
    "collapsed": false
   }
  },
  {
   "cell_type": "code",
   "execution_count": 145,
   "outputs": [
    {
     "name": "stdout",
     "output_type": "stream",
     "text": [
      "classification accuracy: 0.7235067437379576\n"
     ]
    }
   ],
   "source": [
    "# I'm now going to re-train the model with only the 5 most 'useful' variables\n",
    "X_train_ds = X_train[:,idx[:1]]\n",
    "\n",
    "# train a logistic regression classifier\n",
    "model = LogisticRegression(penalty='l2', C=1e-2, max_iter=500 )\n",
    "\n",
    "# fit the model\n",
    "model.fit(X_train_ds,Y_train)\n",
    "\n",
    "# test the model\n",
    "Y_hat = model.predict(X_test[:,idx[:1]])\n",
    "\n",
    "# calculate and display accuracy\n",
    "score = sum(Y_test == Y_hat) / len(Y_test)\n",
    "print('classification accuracy: ' + str(score))"
   ],
   "metadata": {
    "collapsed": false
   }
  },
  {
   "cell_type": "markdown",
   "source": [
    "### To verify that this is true, do a simple analysis where we define single threshold. If an individual's log age is greater than that threshold, they're predicted to be obese.\n",
    "Sweep this threshold across a range and ask how our performance changes."
   ],
   "metadata": {
    "collapsed": false
   }
  },
  {
   "cell_type": "code",
   "execution_count": 180,
   "outputs": [
    {
     "data": {
      "text/plain": "<Figure size 640x480 with 1 Axes>",
      "image/png": "[encoded data removed]"
     },
     "metadata": {},
     "output_type": "display_data"
    }
   ],
   "source": [
    "# define our thresholds\n",
    "threshold = np.linspace(2.8,3.8,num=20);\n",
    "\n",
    "# pull out the\n",
    "log_age = X_test[:,idx[0]]\n",
    "\n",
    "# keep track of our scores\n",
    "scores = []\n",
    "\n",
    "# run analysis\n",
    "for tt in threshold:\n",
    "    Y_hat = np.zeros_like(Y_test)\n",
    "    Y_hat[log_age >= tt] = 1\n",
    "\n",
    "    # calculate score\n",
    "    score = sum(Y_test == Y_hat) / len(Y_test)\n",
    "    scores.append(score)\n",
    "\n",
    "# plot results\n",
    "plt.plot(threshold,scores);\n",
    "plt.xlabel('log age threshold');\n",
    "plt.ylabel('R$^2$');\n",
    "plt.title('predicting obesity using only log age');"
   ],
   "metadata": {
    "collapsed": false
   }
  },
  {
   "cell_type": "code",
   "execution_count": null,
   "outputs": [],
   "source": [],
   "metadata": {
    "collapsed": false
   }
  }
 ],
 "metadata": {
  "kernelspec": {
   "display_name": "Python 3",
   "language": "python",
   "name": "python3"
  },
  "language_info": {
   "codemirror_mode": {
    "name": "ipython",
    "version": 2
   },
   "file_extension": ".py",
   "mimetype": "text/x-python",
   "name": "python",
   "nbconvert_exporter": "python",
   "pygments_lexer": "ipython2",
   "version": "2.7.6"
  }
 },
 "nbformat": 4,
 "nbformat_minor": 0
}
